{
 "cells": [
  {
   "cell_type": "markdown",
   "metadata": {},
   "source": [
    "# CSCE585 Task 1\n",
    "Mars: Miles Ziemer, Max Corbel, Safi Shams Muhtasimul Hoque,Shuge Lei\n",
    "\n",
    "Introduction\n",
    "\n",
    "In this task, we generated adversarial examples in the context of the zero-knowledge threat model using 2 different attack methods: FGSM(Fast Gradient Sign Method) and PGD(Projected Gradient Descent). For each type of attack, we generate adversarial examples with five various epsilons (e.g., 0.1, 0.2, 0.3,0.4, and 0.5). We also evaluated the generated adversarial examples on the undefended model, the vanilla Athena, and PGD-ADT. The success rate (??)of each adversarial example was reported in the evaluation section of the report.\n"
   ]
  },
  {
   "cell_type": "markdown",
   "metadata": {},
   "source": [
    "## Prepare a smaller dataset \n",
    "\n",
    "We generated a subsample using the provided benign samples to increase the speed and efficiency. For MNIST, the num_classes is 10, which means that the subsample ratio is 0.1.\n",
    "\n",
    "Files used to prepare dataset:\n",
    "* python: `tutorials/subsamples.py`\n",
    "* data: 'test_BS-mnist-clean.npy'\n",
    "* output samples: '../task1_data/test_samples'\n",
    "* output labels: '../task1_data/test_labels'"
   ]
  },
  {
   "cell_type": "markdown",
   "metadata": {},
   "source": [
    "# Generate adversarial examples\n",
    "\n",
    "We used two types of attacks to generate adversarial examples. \"FGSM\" (fast gradient sign method) and \"PGD\" (projected gradient descent). The examples were generated in the context of a zero-knowledge threat model, meaning the attacks had no knowledge of the defense. We used five different variants of each attack, setting the epsilon value to 0.1-0.5, which represent the degree of attack pertubation.\n",
    "\n",
    "\n",
    "Files used to generate adversarial examples:\n",
    "* python: `tutorials/craft_adversarial_examples.py`\n",
    "* attacks: 'configs/examples/task1-attacks.json'\n",
    "* generated examples: '../task1_data/'"
   ]
  },
  {
   "cell_type": "code",
   "execution_count": 17,
   "metadata": {},
   "outputs": [
    {
     "ename": "SyntaxError",
     "evalue": "invalid syntax (<ipython-input-17-c2434402ddd2>, line 28)",
     "output_type": "error",
     "traceback": [
      "\u001b[0;36m  File \u001b[0;32m\"<ipython-input-17-c2434402ddd2>\"\u001b[0;36m, line \u001b[0;32m28\u001b[0m\n\u001b[0;31m    \"configs5\": {\u001b[0m\n\u001b[0m    ^\u001b[0m\n\u001b[0;31mSyntaxError\u001b[0m\u001b[0;31m:\u001b[0m invalid syntax\n"
     ]
    }
   ],
   "source": [
    "#task1-attacks.json  \n",
    "{  \n",
    "    \"num_attacks\": 10,\n",
    "  \"configs0\": {\n",
    "    \"attack\": \"fgsm\",\n",
    "    \"description\": \"fgsm_eps0.1\",\n",
    "    \"eps\": 0.1\n",
    "  },\n",
    "  \"configs1\": {\n",
    "    \"attack\": \"fgsm\",\n",
    "    \"description\": \"fgsm_eps0.2\",\n",
    "    \"eps\": 0.2\n",
    "  },\n",
    "  \"configs2\": {\n",
    "    \"attack\": \"fgsm\",\n",
    "    \"description\": \"fgsm_eps0.3\",\n",
    "    \"eps\": 0.3\n",
    "  },\n",
    "  \"configs3\": {\n",
    "    \"attack\": \"fgsm\",\n",
    "    \"description\": \"fgsm_eps0.4\",\n",
    "    \"eps\": 0.4\n",
    "  },\n",
    "  \"configs4\": {\n",
    "    \"attack\": \"fgsm\",\n",
    "    \"description\": \"fgsm_eps0.5\",\n",
    "    \"eps\": 0.5\n",
    "  \"configs5\": {\n",
    "    \"attack\": \"pgd\",\n",
    "    \"description\": \"pgd_eps0.1\",\n",
    "    \"eps\": 0.1\n",
    "  },\n",
    "  \"configs6\": {\n",
    "    \"attack\": \"pgd\",\n",
    "    \"description\": \"pgd_eps0.2\",\n",
    "    \"eps\": 0.2\n",
    "  },\n",
    "  \"configs7\": {\n",
    "    \"attack\": \"pgd\",\n",
    "    \"description\": \"pgd_eps0.3\",\n",
    "    \"eps\": 0.3\n",
    "  },\n",
    "  \"configs8\": {\n",
    "    \"attack\": \"pgd\",\n",
    "    \"description\": \"pgd_eps0.4\",\n",
    "    \"eps\": 0.4\n",
    "  },\n",
    "  \"configs9\": {\n",
    "    \"attack\": \"pgd\",\n",
    "    \"description\": \"pgd_eps0.5\",\n",
    "    \"eps\": 0.5\n",
    "  }\n",
    "}"
   ]
  },
  {
   "cell_type": "markdown",
   "metadata": {},
   "source": [
    "# Evaluate the generated AE's\n",
    "\n",
    "The adversarial examples were evaluated on the undefended model, vanilla Athena and PGD-ADT models by comparing the error rate of the models on the benign subsamples and the adversarial examples.\n",
    "\n",
    "Files used to evaluate AE's\n",
    "* python: `tutorials/eval_model.py`\n",
    "* data: 'configs/task1/task1_data.json'\n",
    "* output: '../task1_evaluations/results.txt'"
   ]
  },
  {
   "cell_type": "code",
   "execution_count": null,
   "metadata": {},
   "outputs": [],
   "source": [
    "#task1_data.json\n",
    "{\n",
    "    \"dir\": \"../../task1_data/\",\n",
    "    \"bs_file\": \"test_samples.npy\",\n",
    "    \"label_file\": \"test_labels.npy\",\n",
    "    \"ae_files\": [\n",
    "        \"fgsm_eps0.1.npy\",\n",
    "        \"fgsm_eps0.2.npy\",\n",
    "        \"fgsm_eps0.3.npy\",\n",
    "        \"fgsm_eps0.4.npy\",\n",
    "        \"fgsm_eps0.5.npy\",\n",
    "        \"bim_eps0.1.npy\",\n",
    "        \"bim_eps0.2.npy\",\n",
    "        \"bim_eps0.3.npy\",\n",
    "        \"bim_eps0.4.npy\",\n",
    "        \"bim_eps0.5.npy\",\n",
    "        \"pgd_eps0.1.npy\",\n",
    "        \"pgd_eps0.2.npy\",\n",
    "        \"pgd_eps0.3.npy\",\n",
    "        \"pgd_eps0.4.npy\",\n",
    "        \"pgd_eps0.5.npy\"\n",
    "    ]\n",
    "}"
   ]
  },
  {
   "cell_type": "markdown",
   "metadata": {},
   "source": [
    "# FGSM\n",
    "|Variation|Undefended Model|Ensemble|PGD-ADT|\n",
    "|---------|----------------|--------|-------|\n",
    "|eps=0.1  |0.0222          |0.0010  |0.0080 |\n",
    "|eps=0.2  |0.1415          |0.0353  |0.0192 | \n",
    "| eps=0.3 |0.6006          |0.5146  |0.0667 |\n",
    "|eps=0.4  |0.8392          |0.8776  |0.4277 |\n",
    "|eps=0.5  |0.8827          |0.8918  |0.7977 |\n",
    "\n",
    "# PGD\n",
    "|Variation|Undefended Model|Ensemble|PGD-ADT|\n",
    "|---------|----------------|--------|-------|\n",
    "|eps=0.1  |0.0313          |0.0020  |0.0070 |\n",
    "| eps=0.2 |0.1587          |0.0142  |0.0131 |\n",
    "| eps=0.3 |0.4914          |0.0576  |0.0303 |\n",
    "| eps=0.4 |0.8463          |0.2477  |0.0657 |\n",
    "| eps=0.5 |0.9453          |0.5520  |0.1567 |"
   ]
  },
  {
   "cell_type": "markdown",
   "metadata": {},
   "source": [
    "## Contributions\n",
    "\n",
    "M.C., M.Z., S.L. and S.M. conceived and planned the experiments. M.C. and M.Z. set up the code. M.C., M.Z., S.L. and S.M. contributed to sample preparation. M.C., M.Z., S.L. and S.M. contributed to the interpretation of the results. M.C took the lead in generating the adversarial samples. S.L. and M.Z. took the lead in writing the report. All authors provided critical feedback and helped shape the experiment, analysis and report."
   ]
  },
  {
   "cell_type": "code",
   "execution_count": null,
   "metadata": {},
   "outputs": [],
   "source": []
  }
 ],
 "metadata": {
  "kernelspec": {
   "display_name": "Python 3",
   "language": "python",
   "name": "python3"
  },
  "language_info": {
   "codemirror_mode": {
    "name": "ipython",
    "version": 3
   },
   "file_extension": ".py",
   "mimetype": "text/x-python",
   "name": "python",
   "nbconvert_exporter": "python",
   "pygments_lexer": "ipython3",
   "version": "3.8.3"
  }
 },
 "nbformat": 4,
 "nbformat_minor": 2
}
